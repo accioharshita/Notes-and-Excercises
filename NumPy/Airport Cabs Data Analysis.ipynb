{
 "cells": [
  {
   "cell_type": "code",
   "execution_count": 1,
   "id": "c5a726e9",
   "metadata": {},
   "outputs": [],
   "source": [
    "import numpy as np"
   ]
  },
  {
   "cell_type": "code",
   "execution_count": 7,
   "id": "b93a82db",
   "metadata": {},
   "outputs": [],
   "source": [
    "taxi= np.genfromtxt('nyc_taxis.csv', delimiter=',', skip_header=True)"
   ]
  },
  {
   "cell_type": "markdown",
   "id": "91043540",
   "metadata": {},
   "source": [
    "**Calculating mean of the speeds of taxis**"
   ]
  },
  {
   "cell_type": "code",
   "execution_count": 5,
   "id": "b22563b8",
   "metadata": {},
   "outputs": [],
   "source": [
    "speed= taxi[: ,7]/(taxi[:, 8]/3600)"
   ]
  },
  {
   "cell_type": "code",
   "execution_count": 6,
   "id": "be54e799",
   "metadata": {},
   "outputs": [
    {
     "name": "stdout",
     "output_type": "stream",
     "text": [
      "32.24258580925573\n"
     ]
    }
   ],
   "source": [
    "mean= speed.mean()\n",
    "print(mean)"
   ]
  },
  {
   "cell_type": "markdown",
   "id": "b41e75ff",
   "metadata": {},
   "source": [
    "**Number of rides taken in the month of february**"
   ]
  },
  {
   "cell_type": "code",
   "execution_count": 10,
   "id": "acc7d3a3",
   "metadata": {},
   "outputs": [
    {
     "name": "stdout",
     "output_type": "stream",
     "text": [
      "13333\n"
     ]
    }
   ],
   "source": [
    "feb_rides= taxi[taxi[:,1]==2, 1]\n",
    "print(feb_rides.shape[0]) #we have indexed it zero b/c shape tells us rowsXcolumns and as this is 1D we only want row as ans\n"
   ]
  },
  {
   "cell_type": "markdown",
   "id": "e741c5b8",
   "metadata": {},
   "source": [
    "**Number of rides with a tip grater than 50$**"
   ]
  },
  {
   "cell_type": "code",
   "execution_count": 13,
   "id": "cbd8c0be",
   "metadata": {},
   "outputs": [
    {
     "name": "stdout",
     "output_type": "stream",
     "text": [
      "16\n"
     ]
    }
   ],
   "source": [
    "tip= taxi[taxi[:,12]>50 , 12]\n",
    "print (tip.shape[0])"
   ]
  },
  {
   "cell_type": "markdown",
   "id": "df52b6ca",
   "metadata": {},
   "source": [
    "**Number of rides where the drop was at JFK**"
   ]
  },
  {
   "cell_type": "code",
   "execution_count": 14,
   "id": "09fe9f1a",
   "metadata": {},
   "outputs": [
    {
     "name": "stdout",
     "output_type": "stream",
     "text": [
      "11832\n"
     ]
    }
   ],
   "source": [
    "jfk= print(taxi[taxi[:, 6]==2, 6].shape[0])"
   ]
  },
  {
   "cell_type": "code",
   "execution_count": null,
   "id": "2de02439",
   "metadata": {},
   "outputs": [],
   "source": []
  }
 ],
 "metadata": {
  "kernelspec": {
   "display_name": "Python 3 (ipykernel)",
   "language": "python",
   "name": "python3"
  },
  "language_info": {
   "codemirror_mode": {
    "name": "ipython",
    "version": 3
   },
   "file_extension": ".py",
   "mimetype": "text/x-python",
   "name": "python",
   "nbconvert_exporter": "python",
   "pygments_lexer": "ipython3",
   "version": "3.9.6"
  }
 },
 "nbformat": 4,
 "nbformat_minor": 5
}
